{
 "cells": [
  {
   "cell_type": "code",
   "execution_count": null,
   "id": "11309e50",
   "metadata": {},
   "outputs": [],
   "source": [
    "#%pip install google-api-python-client google-auth-httplib2 google-auth-oauthlib"
   ]
  },
  {
   "cell_type": "markdown",
   "id": "8dfc0456",
   "metadata": {},
   "source": [
    "## token pickle file"
   ]
  },
  {
   "cell_type": "code",
   "execution_count": null,
   "id": "d291c789",
   "metadata": {},
   "outputs": [],
   "source": [
    "from google_auth_oauthlib.flow import InstalledAppFlow\n",
    "import pickle\n",
    "\n",
    "creds = None\n",
    "\n",
    "SCOPES = ['https://www.googleapis.com/auth/gmail.readonly']\n",
    "\n",
    "if not creds or not creds.valid:\n",
    "    if creds and creds.expired and creds.refresh_token:\n",
    "        creds.refresh(Request())\n",
    "    else:\n",
    "        flow = InstalledAppFlow.from_client_secrets_file('credentials_email.json', SCOPES)\n",
    "        creds = flow.run_local_server(port=0)\n",
    "\n",
    "    with open('token.pkl', 'wb') as token:\n",
    "        pickle.dump(creds, token)"
   ]
  }
 ],
 "metadata": {
  "kernelspec": {
   "display_name": "Python 3 (ipykernel)",
   "language": "python",
   "name": "python3"
  },
  "language_info": {
   "codemirror_mode": {
    "name": "ipython",
    "version": 3
   },
   "file_extension": ".py",
   "mimetype": "text/x-python",
   "name": "python",
   "nbconvert_exporter": "python",
   "pygments_lexer": "ipython3",
   "version": "3.9.12"
  }
 },
 "nbformat": 4,
 "nbformat_minor": 5
}
