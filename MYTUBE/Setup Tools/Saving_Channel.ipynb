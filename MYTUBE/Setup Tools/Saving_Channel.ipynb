{
 "cells": [
  {
   "cell_type": "code",
   "execution_count": null,
   "id": "07608ae2",
   "metadata": {},
   "outputs": [],
   "source": [
    "import pickle\n",
    "import pandas as pd\n",
    "from apiclient.discovery import build\n",
    "from google_auth_oauthlib.flow import InstalledAppFlow"
   ]
  },
  {
   "cell_type": "markdown",
   "id": "c8fa776a",
   "metadata": {},
   "source": [
    "Note: You will need to create a new project in the Google Cloud Project, you will need an api key and a OAuth 2.0 Client ID. Download the json and rename it credentials_youtube.json"
   ]
  },
  {
   "cell_type": "code",
   "execution_count": null,
   "id": "6b0cbd4c",
   "metadata": {},
   "outputs": [],
   "source": [
    "################## ADD API KEY ####################\n",
    "api_key = \"API_KEY_HERE\"\n",
    "\n",
    "ClientSecret = \"credentials_youtube.json\"\n",
    "Scopes = [\"https://www.googleapis.com/auth/youtube\"]\n",
    "\n",
    "flow = InstalledAppFlow.from_client_secrets_file(ClientSecret, Scopes)\n",
    "credentials = flow.run_console()"
   ]
  },
  {
   "cell_type": "markdown",
   "id": "5e88549b",
   "metadata": {},
   "source": [
    "## Saving channel data:"
   ]
  },
  {
   "cell_type": "code",
   "execution_count": null,
   "id": "ba70dac4",
   "metadata": {},
   "outputs": [],
   "source": [
    "def requestSubs(nextpageToken = None):\n",
    "    request = youtube.subscriptions().list(part=\"snippet\", mine=True, maxResults=50, fields = ('items(snippet(title,resourceId(channelId),thumbnails(high))),nextPageToken'),pageToken = nextpageToken)\n",
    "    return request.execute()\n",
    "\n",
    "def get_Upload_id(channelid):\n",
    "    videos_of_subs = youtube.channels().list(part='contentDetails',id=str(channelid))\n",
    "    details = videos_of_subs.execute()\n",
    "    \n",
    "    try:\n",
    "        return details['items'][0]['contentDetails']['relatedPlaylists']['uploads']\n",
    "    except:\n",
    "        return None\n",
    "\n",
    "def pageiterator(function):\n",
    "    req = function()\n",
    "    all_pages = req['items']\n",
    "\n",
    "    while True:\n",
    "        if 'nextPageToken' in req.keys():\n",
    "            req = requestSubs(nextpageToken = req['nextPageToken'])\n",
    "            all_pages = all_pages + req['items']\n",
    "        else:\n",
    "            break\n",
    "    return all_pages\n",
    "\n",
    "def dict_Collapser(dict_of_dicts):\n",
    "    new_dict = {}\n",
    "\n",
    "    for item in dict_of_dicts:\n",
    "        name = item['snippet']['title']\n",
    "    \n",
    "        df = pd.json_normalize(item['snippet'], sep='_')\n",
    "\n",
    "        values = df.to_dict(orient='records')[0]\n",
    "        new_dict[name] = values\n",
    "        \n",
    "    channel_data_frame = pd.DataFrame(new_dict).T\n",
    "    del channel_data_frame['title']\n",
    "    return channel_data_frame\n",
    "\n",
    "\n",
    "youtube = build('youtube','v3',developerKey=api_key,credentials=credentials)\n",
    "all_channels = pageiterator(requestSubs)\n",
    "channel_data = dict_Collapser(all_channels)\n",
    "\n",
    "channel_data['upload_playlistId']  = channel_data['resourceId_channelId'].apply(get_Upload_id)\n",
    "\n",
    "pickle.dump(channel_data, open('channel_data_large.pkl','wb'))"
   ]
  },
  {
   "cell_type": "code",
   "execution_count": null,
   "id": "f70b8da3",
   "metadata": {},
   "outputs": [],
   "source": [
    "pickle.load(open('channel_data_large.pkl','rb'))"
   ]
  },
  {
   "cell_type": "markdown",
   "id": "d92cad21",
   "metadata": {},
   "source": [
    "I have a list of channels I watch during the week and a longer list I allow myself to watch at weekends, so I create two files and normal and a large."
   ]
  },
  {
   "cell_type": "markdown",
   "id": "95c9cf8f",
   "metadata": {},
   "source": [
    "## Add together - to make weekend list"
   ]
  },
  {
   "cell_type": "code",
   "execution_count": null,
   "id": "001ac716",
   "metadata": {},
   "outputs": [],
   "source": [
    "large = pickle.load(open('channel_data_large.pkl','rb'))\n",
    "normal = pickle.load(open('channel_data.pkl','rb'))"
   ]
  },
  {
   "cell_type": "code",
   "execution_count": null,
   "id": "ff5d30fe",
   "metadata": {},
   "outputs": [],
   "source": [
    "large_and_normal = pd.concat([normal, large]).drop_duplicates() # Merges normal list with large list"
   ]
  },
  {
   "cell_type": "code",
   "execution_count": null,
   "id": "8067186b",
   "metadata": {},
   "outputs": [],
   "source": [
    "large_and_normal"
   ]
  },
  {
   "cell_type": "code",
   "execution_count": null,
   "id": "d6aa15c9",
   "metadata": {},
   "outputs": [],
   "source": [
    "pickle.dump(large_and_normal, open('channel_data_large.pkl','wb'))"
   ]
  },
  {
   "cell_type": "code",
   "execution_count": null,
   "id": "128fe790",
   "metadata": {},
   "outputs": [],
   "source": [
    "pickle.load(open('channel_data_large.pkl','rb'))"
   ]
  }
 ],
 "metadata": {
  "kernelspec": {
   "display_name": "Python 3 (ipykernel)",
   "language": "python",
   "name": "python3"
  },
  "language_info": {
   "codemirror_mode": {
    "name": "ipython",
    "version": 3
   },
   "file_extension": ".py",
   "mimetype": "text/x-python",
   "name": "python",
   "nbconvert_exporter": "python",
   "pygments_lexer": "ipython3",
   "version": "3.9.12"
  }
 },
 "nbformat": 4,
 "nbformat_minor": 5
}
